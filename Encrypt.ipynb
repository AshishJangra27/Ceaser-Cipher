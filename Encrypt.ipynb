{
 "cells": [
  {
   "cell_type": "code",
   "execution_count": 2,
   "metadata": {
    "scrolled": true
   },
   "outputs": [
    {
     "name": "stdout",
     "output_type": "stream",
     "text": [
      "Enter text: hello\n",
      "Enter the decryption Key: 3\n",
      "\n",
      "\n",
      "Encrypted Text:  ebiil\n"
     ]
    }
   ],
   "source": [
    "x = raw_input(\"Enter text: \")\n",
    "key = int(raw_input(\"Enter the Encryption Key: \"))\n",
    "\n",
    "lst = []\n",
    "ord_lst = []\n",
    "enc_ord_lst = []\n",
    "dec_lst = []\n",
    "dec_txt = ''\n",
    "marg = 0\n",
    "\n",
    "for i in range(len(x)):\n",
    "    lst.append(x[i])\n",
    "    \n",
    "for i in range(len(x)):\n",
    "    ord_lst.append(ord(lst[i]))\n",
    "    \n",
    "#print('ORDERED LIST :',ord_lst)\n",
    "\n",
    "for i in range(len(x)):\n",
    "    \n",
    "    if (ord_lst[i] != 32):\n",
    "        enc_ord_lst.append(ord_lst[i] + key) #///////\n",
    "    else:\n",
    "        enc_ord_lst.append(ord_lst[i])\n",
    "        \n",
    "    \n",
    "#print('Encrypted ORDERED LIST :',enc_ord_lst)\n",
    "\n",
    "for i in range(len(x)):\n",
    "    if(enc_ord_lst[i] < 97):\n",
    "        \n",
    "        marg = 97 - enc_ord_lst[i]\n",
    "        enc_ord_lst[i] = 123 - marg\n",
    "    else: \n",
    "        pass\n",
    "#print('Encrypted ORDERED LIST :',enc_ord_lst)\n",
    "\n",
    "for i in range(len(x)):\n",
    "    dec_lst.append(chr(enc_ord_lst[i]))\n",
    "    \n",
    "#print(\"Decrypted List:\",dec_lst)\n",
    "\n",
    "\n",
    "for i in range(len(dec_lst)):\n",
    "    dec_txt = dec_txt + dec_lst[i]\n",
    "    \n",
    "print('\\n')\n",
    "print \"Encrypted Text: \",dec_txt"
   ]
  },
  {
   "cell_type": "code",
   "execution_count": null,
   "metadata": {},
   "outputs": [],
   "source": []
  },
  {
   "cell_type": "code",
   "execution_count": null,
   "metadata": {},
   "outputs": [],
   "source": []
  },
  {
   "cell_type": "code",
   "execution_count": null,
   "metadata": {},
   "outputs": [],
   "source": []
  },
  {
   "cell_type": "code",
   "execution_count": null,
   "metadata": {},
   "outputs": [],
   "source": []
  },
  {
   "cell_type": "code",
   "execution_count": null,
   "metadata": {},
   "outputs": [],
   "source": []
  },
  {
   "cell_type": "code",
   "execution_count": null,
   "metadata": {},
   "outputs": [],
   "source": []
  },
  {
   "cell_type": "code",
   "execution_count": null,
   "metadata": {},
   "outputs": [],
   "source": []
  },
  {
   "cell_type": "code",
   "execution_count": null,
   "metadata": {},
   "outputs": [],
   "source": []
  },
  {
   "cell_type": "code",
   "execution_count": null,
   "metadata": {},
   "outputs": [],
   "source": []
  },
  {
   "cell_type": "code",
   "execution_count": null,
   "metadata": {},
   "outputs": [],
   "source": []
  },
  {
   "cell_type": "code",
   "execution_count": 94,
   "metadata": {},
   "outputs": [
    {
     "name": "stdout",
     "output_type": "stream",
     "text": [
      "Enter text: LOVELY PROFESSIONAL UNIVERSITY\n",
      "Enter the decryption Key: 12\n"
     ]
    }
   ],
   "source": [
    "x = raw_input(\"Enter text: \")\n",
    "key = int(raw_input(\"Enter the decryption Key: \"))\n",
    "\n",
    "lst = []\n",
    "ord_lst = []\n",
    "enc_ord_lst = []\n",
    "dec_lst = []\n",
    "dec_txt = ''\n",
    "marg = 0\n",
    "\n",
    "for i in range(len(x)):\n",
    "    lst.append(x[i])\n",
    "    \n",
    "for i in range(len(x)):\n",
    "    ord_lst.append(ord(lst[i]))\n",
    "    \n",
    "#print('ORDERED LIST :',ord_lst)\n",
    "\n",
    "# for i in range(len(x)):\n",
    "    \n",
    "#     if (ord_lst[i] != 32):\n",
    "#         enc_ord_lst.append(ord_lst[i] + key) #///////\n",
    "#     else:\n",
    "#         enc_ord_lst.append(ord_lst[i])"
   ]
  },
  {
   "cell_type": "code",
   "execution_count": 95,
   "metadata": {},
   "outputs": [
    {
     "data": {
      "text/plain": [
       "[76,\n",
       " 79,\n",
       " 86,\n",
       " 69,\n",
       " 76,\n",
       " 89,\n",
       " 32,\n",
       " 80,\n",
       " 82,\n",
       " 79,\n",
       " 70,\n",
       " 69,\n",
       " 83,\n",
       " 83,\n",
       " 73,\n",
       " 79,\n",
       " 78,\n",
       " 65,\n",
       " 76,\n",
       " 32,\n",
       " 85,\n",
       " 78,\n",
       " 73,\n",
       " 86,\n",
       " 69,\n",
       " 82,\n",
       " 83,\n",
       " 73,\n",
       " 84,\n",
       " 89]"
      ]
     },
     "execution_count": 95,
     "metadata": {},
     "output_type": "execute_result"
    }
   ],
   "source": [
    "ord_lst"
   ]
  },
  {
   "cell_type": "code",
   "execution_count": 96,
   "metadata": {},
   "outputs": [],
   "source": [
    "import hashlib"
   ]
  },
  {
   "cell_type": "code",
   "execution_count": 97,
   "metadata": {},
   "outputs": [],
   "source": [
    "encrypted = hashlib.sha256('1234').hexdigest()"
   ]
  },
  {
   "cell_type": "code",
   "execution_count": 98,
   "metadata": {},
   "outputs": [
    {
     "data": {
      "text/plain": [
       "'03ac674216f3e15c761ee1a5e255f067953623c8b388b4459e13f978d7c846f4'"
      ]
     },
     "execution_count": 98,
     "metadata": {},
     "output_type": "execute_result"
    }
   ],
   "source": [
    "encrypted"
   ]
  },
  {
   "cell_type": "code",
   "execution_count": null,
   "metadata": {},
   "outputs": [],
   "source": [
    "LOVELY PROFESSIONAL UNIVERSITY"
   ]
  }
 ],
 "metadata": {
  "kernelspec": {
   "display_name": "Python 2",
   "language": "python",
   "name": "python2"
  },
  "language_info": {
   "codemirror_mode": {
    "name": "ipython",
    "version": 2
   },
   "file_extension": ".py",
   "mimetype": "text/x-python",
   "name": "python",
   "nbconvert_exporter": "python",
   "pygments_lexer": "ipython2",
   "version": "2.7.16"
  }
 },
 "nbformat": 4,
 "nbformat_minor": 2
}
